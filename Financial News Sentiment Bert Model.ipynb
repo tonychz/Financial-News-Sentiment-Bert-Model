{
 "cells": [
  {
   "cell_type": "code",
   "execution_count": 1,
   "id": "78ba72e6",
   "metadata": {
    "scrolled": true
   },
   "outputs": [
    {
     "name": "stdout",
     "output_type": "stream",
     "text": [
      "Metal device set to: Apple M2 Pro\n"
     ]
    },
    {
     "name": "stderr",
     "output_type": "stream",
     "text": [
      "All model checkpoint layers were used when initializing TFBertForSequenceClassification.\n",
      "\n",
      "Some layers of TFBertForSequenceClassification were not initialized from the model checkpoint at bert-base-uncased and are newly initialized: ['classifier']\n",
      "You should probably TRAIN this model on a down-stream task to be able to use it for predictions and inference.\n"
     ]
    }
   ],
   "source": [
    "from transformers import BertTokenizer, TFBertForSequenceClassification\n",
    "from transformers import InputExample, InputFeatures\n",
    "\n",
    "import tensorflow as tf\n",
    "import pandas as pd\n",
    "\n",
    "model = TFBertForSequenceClassification.from_pretrained(\"bert-base-uncased\", num_labels=2)\n",
    "tokenizer = BertTokenizer.from_pretrained(\"bert-base-uncased\")"
   ]
  },
  {
   "cell_type": "code",
   "execution_count": 16,
   "id": "49c85be2",
   "metadata": {
    "scrolled": true
   },
   "outputs": [
    {
     "name": "stdout",
     "output_type": "stream",
     "text": [
      "/Users/tony/Project/Testing Bert\r\n"
     ]
    }
   ],
   "source": [
    "!pwd"
   ]
  },
  {
   "cell_type": "code",
   "execution_count": 17,
   "id": "6f5e1540",
   "metadata": {},
   "outputs": [
    {
     "name": "stdout",
     "output_type": "stream",
     "text": [
      "                                               Sentence Sentiment\n",
      "0     The GeoSolutions technology will leverage Bene...  positive\n",
      "1     $ESI on lows, down $1.50 to $2.50 BK a real po...  negative\n",
      "2     For the last quarter of 2010 , Componenta 's n...  positive\n",
      "5       $SPY wouldn't be surprised to see a green close  positive\n",
      "6     Shell's $70 Billion BG Deal Meets Shareholder ...  negative\n",
      "...                                                 ...       ...\n",
      "5832  Operating profit fell to EUR 38.1 mn from EUR ...  negative\n",
      "5835  HSBC Says Unit to Book $585 Million Charge on ...  negative\n",
      "5836  Daily Mail parent company in talks with potent...  positive\n",
      "5837  RISING costs have forced packaging producer Hu...  negative\n",
      "5841  HELSINKI AFX - KCI Konecranes said it has won ...  positive\n",
      "\n",
      "[2712 rows x 2 columns]\n"
     ]
    }
   ],
   "source": [
    "csv_file_path = \"./data.csv\" #dataset source:https://www.kaggle.com/datasets/sbhatti/financial-sentiment-analysis?resource=download\n",
    "dataset = pd.read_csv(csv_file_path)\n",
    "\n",
    "#remove neutral rows from dataset\n",
    "dataset = dataset[dataset['Sentiment'] != 'neutral']\n",
    "print(dataset)"
   ]
  },
  {
   "cell_type": "code",
   "execution_count": 4,
   "id": "ac5adc14",
   "metadata": {},
   "outputs": [],
   "source": [
    "def encode_dataset(data, tokenizer, max_length=512):\n",
    "    input_ids, attention_masks, labels = [], [], []\n",
    "\n",
    "    sentiment_map = {\"positive\": 1, \"negative\": 0}\n",
    "\n",
    "    for index, row in data.iterrows():\n",
    "        inputs = tokenizer.encode_plus(\n",
    "            row[\"Sentence\"],\n",
    "            add_special_tokens=True,\n",
    "            max_length=max_length,\n",
    "            padding=\"max_length\",\n",
    "            truncation=True,\n",
    "        )\n",
    "\n",
    "        input_ids.append(inputs[\"input_ids\"])\n",
    "        attention_masks.append(inputs[\"attention_mask\"])\n",
    "        labels.append(sentiment_map[row[\"Sentiment\"]])\n",
    "\n",
    "    return (\n",
    "        tf.data.Dataset.from_tensor_slices(\n",
    "            ({\"input_ids\": input_ids, \"attention_mask\": attention_masks}, labels)\n",
    "        ),\n",
    "        max_length,\n",
    "    )"
   ]
  },
  {
   "cell_type": "code",
   "execution_count": 5,
   "id": "1eb7fe27",
   "metadata": {
    "scrolled": false
   },
   "outputs": [
    {
     "name": "stdout",
     "output_type": "stream",
     "text": [
      "<_TensorSliceDataset element_spec=({'input_ids': TensorSpec(shape=(512,), dtype=tf.int32, name=None), 'attention_mask': TensorSpec(shape=(512,), dtype=tf.int32, name=None)}, TensorSpec(shape=(), dtype=tf.int32, name=None))>\n"
     ]
    }
   ],
   "source": [
    "tf_data, max_length = encode_dataset(dataset, tokenizer)\n",
    "print(tf_data)"
   ]
  },
  {
   "cell_type": "code",
   "execution_count": 6,
   "id": "84b98422",
   "metadata": {},
   "outputs": [],
   "source": [
    "# train-test-val split\n",
    "length = len(tf_data)\n",
    "train_size = int(length*0.7)\n",
    "test_size = int(length*0.15)\n",
    "val_size = int(length*0.15)\n",
    "\n",
    "BATCH_SIZE = 4\n",
    "\n",
    "tf_data = tf_data.shuffle(len(tf_data)).batch(BATCH_SIZE).prefetch(tf.data.experimental.AUTOTUNE)\n",
    "train_data = tf_data.take(train_size)\n",
    "test_data = tf_data.skip(train_size)\n",
    "val_data = test_data.skip(val_size)\n",
    "test_data = test_data.take(test_size)"
   ]
  },
  {
   "cell_type": "code",
   "execution_count": 7,
   "id": "717cea7c",
   "metadata": {},
   "outputs": [
    {
     "name": "stdout",
     "output_type": "stream",
     "text": [
      "<_PrefetchDataset element_spec=({'input_ids': TensorSpec(shape=(None, 512), dtype=tf.int32, name=None), 'attention_mask': TensorSpec(shape=(None, 512), dtype=tf.int32, name=None)}, TensorSpec(shape=(None,), dtype=tf.int32, name=None))>\n",
      "<_TakeDataset element_spec=({'input_ids': TensorSpec(shape=(None, 512), dtype=tf.int32, name=None), 'attention_mask': TensorSpec(shape=(None, 512), dtype=tf.int32, name=None)}, TensorSpec(shape=(None,), dtype=tf.int32, name=None))>\n"
     ]
    }
   ],
   "source": [
    "print(tf_data)\n",
    "print(train_data)"
   ]
  },
  {
   "cell_type": "code",
   "execution_count": 8,
   "id": "4326f411",
   "metadata": {
    "scrolled": true
   },
   "outputs": [
    {
     "data": {
      "text/plain": [
       "[PhysicalDevice(name='/physical_device:CPU:0', device_type='CPU'),\n",
       " PhysicalDevice(name='/physical_device:GPU:0', device_type='GPU')]"
      ]
     },
     "execution_count": 8,
     "metadata": {},
     "output_type": "execute_result"
    }
   ],
   "source": [
    "tf.config.list_physical_devices(\n",
    "    device_type=None\n",
    ")"
   ]
  },
  {
   "cell_type": "code",
   "execution_count": 9,
   "id": "7327c9a9",
   "metadata": {
    "scrolled": true
   },
   "outputs": [
    {
     "name": "stderr",
     "output_type": "stream",
     "text": [
      "WARNING:absl:At this time, the v2.11+ optimizer `tf.keras.optimizers.Adam` runs slowly on M1/M2 Macs, please use the legacy Keras optimizer instead, located at `tf.keras.optimizers.legacy.Adam`.\n",
      "WARNING:absl:There is a known slowdown when using v2.11+ Keras optimizers on M1/M2 Macs. Falling back to the legacy Keras optimizer, i.e., `tf.keras.optimizers.legacy.Adam`.\n"
     ]
    },
    {
     "name": "stdout",
     "output_type": "stream",
     "text": [
      "Epoch 1/3\n"
     ]
    },
    {
     "name": "stderr",
     "output_type": "stream",
     "text": [
      "2023-05-24 03:23:55.636187: W tensorflow/tsl/platform/profile_utils/cpu_utils.cc:128] Failed to get CPU frequency: 0 Hz\n"
     ]
    },
    {
     "name": "stdout",
     "output_type": "stream",
     "text": [
      "678/678 [==============================] - 430s 616ms/step - loss: 0.3491 - accuracy: 0.8521\n",
      "Epoch 2/3\n",
      "678/678 [==============================] - 416s 614ms/step - loss: 0.1524 - accuracy: 0.9484\n",
      "Epoch 3/3\n",
      "678/678 [==============================] - 421s 620ms/step - loss: 0.0757 - accuracy: 0.9760\n"
     ]
    }
   ],
   "source": [
    "#Training\n",
    "optimizer = tf.keras.optimizers.Adam(learning_rate=3e-5)  #use tf.keras.optimizers.legacy.Adam for m1\n",
    "loss = tf.keras.losses.SparseCategoricalCrossentropy(from_logits=True)\n",
    "model.compile(optimizer=optimizer, loss=loss, metrics=[\"accuracy\"])\n",
    "\n",
    "EPOCHS = 3\n",
    "\n",
    "device = \"/GPU:0\" if tf.config.list_physical_devices(\"GPU\") else \"/CPU:0\"\n",
    "with tf.device(device):\n",
    "    history = model.fit(tf_data, epochs=EPOCHS, validation_data=val_data)\n",
    "    \n",
    "# model.compile(optimizer=tf.keras.optimizers.legacy.Adam(learning_rate=3e-5, epsilon=1e-08, clipnorm=1.0), \n",
    "#               loss=tf.keras.losses.SparseCategoricalCrossentropy(from_logits=True), \n",
    "#               metrics=[tf.keras.metrics.SparseCategoricalAccuracy('accuracy')])"
   ]
  },
  {
   "cell_type": "code",
   "execution_count": 12,
   "id": "826b6a76",
   "metadata": {},
   "outputs": [],
   "source": [
    "pred_sentences = ['''Boldizsar Gyori Tue, May 23, 2023 at 10:10 PM GMT+8 (Updates with rate cut, new prices) By Boldizsar Gyori BUDAPEST, May 23 (Reuters) - The forint made a recovery on Tuesday after the Hungarian central bank cut its one-day deposit rate by an expected 100 basis points, becoming the first monetary authority in central Europe to loosen its policy. Analysts had expected the bank to start paring back emergency rate hikes taken in October last year when the forint was at record lows, as investor sentiment has seen a sea change with the currency strengthening. The one-day deposit rate was introduced last autumn and has helped attract money flows with its high rate, now at 17%. The Hungarian central bank's 13% base policy rate is also the highest in the European Union. The bank has reduced the one-day deposit rate even as inflation is yet to drop below 20%, while the economy has been stuck in a mild recession as higher prices hit consumers. \"If the improvement in risk perceptions persists, the Bank will continue the gradual convergence of the interest rate conditions of one-day tenders to the base rate,\" central bank Governor Zsolt Matolcsy said at a press conference. The forint firmed to 373.75 from 376.6 versus the euro, after the rate cut. The curency is 16% stronger compared with record lows of about 434 hit last year. Analysts said Hungary's rate cut could weigh on other currencies in central Europe although the region took it in its stride on Tuesday. \"We might argue that the NBH is only trying to 'take the top off' high interest rates in Hungary in order to support the economy,\" Commerzbank said in a note prior to the decision. The beginning of an easing cycle was flagged by the central bank in April, when it first delivered a technical cut of 450 bps to the top end of its rate corridor. Hungary's inflation peaked at 25.7%, but has only retreated slightly, to 24% in April. CEE SNAPSHO AT MARKETS T 1536 CET CURRENC IES Latest Previou Daily Change s bid close change in 2023 EURCZK Czech EURHUF Hungary 0 0 EURPLN Polish EURRON Romanian EURRSD Serbian 0 0 Note: calculated from 1800 daily CET change Latest Previou Daily Change s close change in 2023 .PX Prague 1321.67 1319.33 +0.18% +9.98% 00 .BUX Budapest 46397.3 46562.4 -0.35% +5.95% 1 5 .WIG20 Warsaw <.WIG20 2008.09 2004.72 +0.17% +12.06 > % .BETI Buchares 12313.7 12277.3 +0.30% +5.57% t 3 4 Spread Daily vs Bund change in Czech spread Republic CZ2YT= 2-year s CZ5YT= 5-year s CZ10YT s Poland PL2YT= 2-year s PL5YT= 5-year s PL10YT s FORWARD 3x6 6x9 9x12 3M interba nk Czech Hungary Poland Note: are for ask FRA prices quotes ******************************************** ****************** (Reporting by Boldizsar Gyori in Budapest, Jason Hovet in Prague; Editing by Shailesh Kuber and Vinay Dwivedi)''']"
   ]
  },
  {
   "cell_type": "code",
   "execution_count": 13,
   "id": "65642740",
   "metadata": {},
   "outputs": [
    {
     "name": "stdout",
     "output_type": "stream",
     "text": [
      "Boldizsar Gyori Tue, May 23, 2023 at 10:10 PM GMT+8 (Updates with rate cut, new prices) By Boldizsar Gyori BUDAPEST, May 23 (Reuters) - The forint made a recovery on Tuesday after the Hungarian central bank cut its one-day deposit rate by an expected 100 basis points, becoming the first monetary authority in central Europe to loosen its policy. Analysts had expected the bank to start paring back emergency rate hikes taken in October last year when the forint was at record lows, as investor sentiment has seen a sea change with the currency strengthening. The one-day deposit rate was introduced last autumn and has helped attract money flows with its high rate, now at 17%. The Hungarian central bank's 13% base policy rate is also the highest in the European Union. The bank has reduced the one-day deposit rate even as inflation is yet to drop below 20%, while the economy has been stuck in a mild recession as higher prices hit consumers. \"If the improvement in risk perceptions persists, the Bank will continue the gradual convergence of the interest rate conditions of one-day tenders to the base rate,\" central bank Governor Zsolt Matolcsy said at a press conference. The forint firmed to 373.75 from 376.6 versus the euro, after the rate cut. The curency is 16% stronger compared with record lows of about 434 hit last year. Analysts said Hungary's rate cut could weigh on other currencies in central Europe although the region took it in its stride on Tuesday. \"We might argue that the NBH is only trying to 'take the top off' high interest rates in Hungary in order to support the economy,\" Commerzbank said in a note prior to the decision. The beginning of an easing cycle was flagged by the central bank in April, when it first delivered a technical cut of 450 bps to the top end of its rate corridor. Hungary's inflation peaked at 25.7%, but has only retreated slightly, to 24% in April. CEE SNAPSHO AT MARKETS T 1536 CET CURRENC IES Latest Previou Daily Change s bid close change in 2023 EURCZK Czech EURHUF Hungary 0 0 EURPLN Polish EURRON Romanian EURRSD Serbian 0 0 Note: calculated from 1800 daily CET change Latest Previou Daily Change s close change in 2023 .PX Prague 1321.67 1319.33 +0.18% +9.98% 00 .BUX Budapest 46397.3 46562.4 -0.35% +5.95% 1 5 .WIG20 Warsaw <.WIG20 2008.09 2004.72 +0.17% +12.06 > % .BETI Buchares 12313.7 12277.3 +0.30% +5.57% t 3 4 Spread Daily vs Bund change in Czech spread Republic CZ2YT= 2-year s CZ5YT= 5-year s CZ10YT s Poland PL2YT= 2-year s PL5YT= 5-year s PL10YT s FORWARD 3x6 6x9 9x12 3M interba nk Czech Hungary Poland Note: are for ask FRA prices quotes ******************************************** ****************** (Reporting by Boldizsar Gyori in Budapest, Jason Hovet in Prague; Editing by Shailesh Kuber and Vinay Dwivedi) : \n",
      " Positive\n"
     ]
    }
   ],
   "source": [
    "#Predictons\n",
    "tf_batch = tokenizer(pred_sentences, max_length=512, padding=True, truncation=True, return_tensors='tf')\n",
    "tf_outputs = model(tf_batch)\n",
    "tf_predictions = tf.nn.softmax(tf_outputs[0], axis=-1)\n",
    "labels = ['Negative','Positive']\n",
    "label = tf.argmax(tf_predictions, axis=1)\n",
    "label = label.numpy()\n",
    "for i in range(len(pred_sentences)):\n",
    "  print(pred_sentences[i], \": \\n\", labels[label[i]])\n"
   ]
  },
  {
   "cell_type": "code",
   "execution_count": null,
   "id": "fb42d7ce",
   "metadata": {},
   "outputs": [],
   "source": []
  }
 ],
 "metadata": {
  "kernelspec": {
   "display_name": "Python 3 (ipykernel)",
   "language": "python",
   "name": "python3"
  },
  "language_info": {
   "codemirror_mode": {
    "name": "ipython",
    "version": 3
   },
   "file_extension": ".py",
   "mimetype": "text/x-python",
   "name": "python",
   "nbconvert_exporter": "python",
   "pygments_lexer": "ipython3",
   "version": "3.10.11"
  }
 },
 "nbformat": 4,
 "nbformat_minor": 5
}
