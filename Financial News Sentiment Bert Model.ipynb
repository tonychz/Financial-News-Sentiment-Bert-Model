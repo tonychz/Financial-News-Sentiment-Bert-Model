{
 "cells": [
  {
   "cell_type": "code",
   "execution_count": 15,
   "id": "78ba72e6",
   "metadata": {
    "scrolled": true
   },
   "outputs": [
    {
     "name": "stdout",
     "output_type": "stream",
     "text": [
      "Model: \"tf_bert_for_sequence_classification\"\n",
      "_________________________________________________________________\n",
      " Layer (type)                Output Shape              Param #   \n",
      "=================================================================\n",
      " bert (TFBertMainLayer)      multiple                  109482240 \n",
      "                                                                 \n",
      " dropout_37 (Dropout)        multiple                  0         \n",
      "                                                                 \n",
      " classifier (Dense)          multiple                  1538      \n",
      "                                                                 \n",
      "=================================================================\n",
      "Total params: 109,483,778\n",
      "Trainable params: 109,483,778\n",
      "Non-trainable params: 0\n",
      "_________________________________________________________________\n"
     ]
    }
   ],
   "source": [
    "from transformers import BertTokenizer, TFBertForSequenceClassification\n",
    "from transformers import InputExample, InputFeatures\n",
    "\n",
    "import tensorflow as tf\n",
    "import pandas as pd"
   ]
  },
  {
   "cell_type": "markdown",
   "id": "21843647",
   "metadata": {},
   "source": [
    "## Train/Load the model"
   ]
  },
  {
   "cell_type": "code",
   "execution_count": null,
   "id": "0d639060",
   "metadata": {},
   "outputs": [],
   "source": [
    "## Train the model\n",
    "# model = TFBertForSequenceClassification.from_pretrained(\"bert-base-uncased\", num_labels=2)\n",
    "# tokenizer = BertTokenizer.from_pretrained(\"bert-base-uncased\")\n",
    "\n",
    "## Load the saved model\n",
    "model = tf.keras.models.load_model('./')\n",
    "model.summary()"
   ]
  },
  {
   "cell_type": "markdown",
   "id": "7281b98d",
   "metadata": {},
   "source": [
    "## Skip to Inference if load the saved model"
   ]
  },
  {
   "cell_type": "code",
   "execution_count": 2,
   "id": "49c85be2",
   "metadata": {
    "scrolled": true
   },
   "outputs": [
    {
     "name": "stdout",
     "output_type": "stream",
     "text": [
      "/Users/tony/Project/Testing Bert\r\n"
     ]
    }
   ],
   "source": [
    "!pwd"
   ]
  },
  {
   "cell_type": "code",
   "execution_count": 17,
   "id": "6f5e1540",
   "metadata": {},
   "outputs": [
    {
     "name": "stdout",
     "output_type": "stream",
     "text": [
      "                                               Sentence Sentiment\n",
      "0     The GeoSolutions technology will leverage Bene...  positive\n",
      "1     $ESI on lows, down $1.50 to $2.50 BK a real po...  negative\n",
      "2     For the last quarter of 2010 , Componenta 's n...  positive\n",
      "5       $SPY wouldn't be surprised to see a green close  positive\n",
      "6     Shell's $70 Billion BG Deal Meets Shareholder ...  negative\n",
      "...                                                 ...       ...\n",
      "5832  Operating profit fell to EUR 38.1 mn from EUR ...  negative\n",
      "5835  HSBC Says Unit to Book $585 Million Charge on ...  negative\n",
      "5836  Daily Mail parent company in talks with potent...  positive\n",
      "5837  RISING costs have forced packaging producer Hu...  negative\n",
      "5841  HELSINKI AFX - KCI Konecranes said it has won ...  positive\n",
      "\n",
      "[2712 rows x 2 columns]\n"
     ]
    }
   ],
   "source": [
    "csv_file_path = \"./data.csv\" #dataset source:https://www.kaggle.com/datasets/sbhatti/financial-sentiment-analysis?resource=download\n",
    "dataset = pd.read_csv(csv_file_path)\n",
    "\n",
    "#remove neutral rows from dataset\n",
    "dataset = dataset[dataset['Sentiment'] != 'neutral']\n",
    "print(dataset)"
   ]
  },
  {
   "cell_type": "code",
   "execution_count": 4,
   "id": "ac5adc14",
   "metadata": {},
   "outputs": [],
   "source": [
    "def encode_dataset(data, tokenizer, max_length=512):\n",
    "    input_ids, attention_masks, labels = [], [], []\n",
    "\n",
    "    sentiment_map = {\"positive\": 1, \"negative\": 0}\n",
    "\n",
    "    for index, row in data.iterrows():\n",
    "        inputs = tokenizer.encode_plus(\n",
    "            row[\"Sentence\"],\n",
    "            add_special_tokens=True,\n",
    "            max_length=max_length,\n",
    "            padding=\"max_length\",\n",
    "            truncation=True,\n",
    "        )\n",
    "\n",
    "        input_ids.append(inputs[\"input_ids\"])\n",
    "        attention_masks.append(inputs[\"attention_mask\"])\n",
    "        labels.append(sentiment_map[row[\"Sentiment\"]])\n",
    "\n",
    "    return (\n",
    "        tf.data.Dataset.from_tensor_slices(\n",
    "            ({\"input_ids\": input_ids, \"attention_mask\": attention_masks}, labels)\n",
    "        ),\n",
    "        max_length,\n",
    "    )"
   ]
  },
  {
   "cell_type": "code",
   "execution_count": 5,
   "id": "1eb7fe27",
   "metadata": {
    "scrolled": false
   },
   "outputs": [
    {
     "name": "stdout",
     "output_type": "stream",
     "text": [
      "<_TensorSliceDataset element_spec=({'input_ids': TensorSpec(shape=(512,), dtype=tf.int32, name=None), 'attention_mask': TensorSpec(shape=(512,), dtype=tf.int32, name=None)}, TensorSpec(shape=(), dtype=tf.int32, name=None))>\n"
     ]
    }
   ],
   "source": [
    "tf_data, max_length = encode_dataset(dataset, tokenizer)\n",
    "print(tf_data)"
   ]
  },
  {
   "cell_type": "code",
   "execution_count": 6,
   "id": "84b98422",
   "metadata": {},
   "outputs": [],
   "source": [
    "# train-test-val split\n",
    "length = len(tf_data)\n",
    "train_size = int(length*0.7)\n",
    "test_size = int(length*0.15)\n",
    "val_size = int(length*0.15)\n",
    "\n",
    "BATCH_SIZE = 4\n",
    "\n",
    "tf_data = tf_data.shuffle(len(tf_data)).batch(BATCH_SIZE).prefetch(tf.data.experimental.AUTOTUNE)\n",
    "train_data = tf_data.take(train_size)\n",
    "test_data = tf_data.skip(train_size)\n",
    "val_data = test_data.skip(val_size)\n",
    "test_data = test_data.take(test_size)"
   ]
  },
  {
   "cell_type": "code",
   "execution_count": 7,
   "id": "717cea7c",
   "metadata": {},
   "outputs": [
    {
     "name": "stdout",
     "output_type": "stream",
     "text": [
      "<_PrefetchDataset element_spec=({'input_ids': TensorSpec(shape=(None, 512), dtype=tf.int32, name=None), 'attention_mask': TensorSpec(shape=(None, 512), dtype=tf.int32, name=None)}, TensorSpec(shape=(None,), dtype=tf.int32, name=None))>\n",
      "<_TakeDataset element_spec=({'input_ids': TensorSpec(shape=(None, 512), dtype=tf.int32, name=None), 'attention_mask': TensorSpec(shape=(None, 512), dtype=tf.int32, name=None)}, TensorSpec(shape=(None,), dtype=tf.int32, name=None))>\n"
     ]
    }
   ],
   "source": [
    "print(tf_data)\n",
    "print(train_data)"
   ]
  },
  {
   "cell_type": "code",
   "execution_count": 3,
   "id": "4326f411",
   "metadata": {
    "scrolled": true
   },
   "outputs": [
    {
     "data": {
      "text/plain": [
       "[PhysicalDevice(name='/physical_device:CPU:0', device_type='CPU'),\n",
       " PhysicalDevice(name='/physical_device:GPU:0', device_type='GPU')]"
      ]
     },
     "execution_count": 3,
     "metadata": {},
     "output_type": "execute_result"
    }
   ],
   "source": [
    "tf.config.list_physical_devices(\n",
    "    device_type=None\n",
    ")"
   ]
  },
  {
   "cell_type": "code",
   "execution_count": 9,
   "id": "7327c9a9",
   "metadata": {
    "scrolled": true
   },
   "outputs": [
    {
     "name": "stderr",
     "output_type": "stream",
     "text": [
      "WARNING:absl:At this time, the v2.11+ optimizer `tf.keras.optimizers.Adam` runs slowly on M1/M2 Macs, please use the legacy Keras optimizer instead, located at `tf.keras.optimizers.legacy.Adam`.\n",
      "WARNING:absl:There is a known slowdown when using v2.11+ Keras optimizers on M1/M2 Macs. Falling back to the legacy Keras optimizer, i.e., `tf.keras.optimizers.legacy.Adam`.\n"
     ]
    },
    {
     "name": "stdout",
     "output_type": "stream",
     "text": [
      "Epoch 1/3\n"
     ]
    },
    {
     "name": "stderr",
     "output_type": "stream",
     "text": [
      "2023-05-24 03:23:55.636187: W tensorflow/tsl/platform/profile_utils/cpu_utils.cc:128] Failed to get CPU frequency: 0 Hz\n"
     ]
    },
    {
     "name": "stdout",
     "output_type": "stream",
     "text": [
      "678/678 [==============================] - 430s 616ms/step - loss: 0.3491 - accuracy: 0.8521\n",
      "Epoch 2/3\n",
      "678/678 [==============================] - 416s 614ms/step - loss: 0.1524 - accuracy: 0.9484\n",
      "Epoch 3/3\n",
      "678/678 [==============================] - 421s 620ms/step - loss: 0.0757 - accuracy: 0.9760\n"
     ]
    }
   ],
   "source": [
    "#Training\n",
    "optimizer = tf.keras.optimizers.Adam(learning_rate=3e-5)  #use tf.keras.optimizers.legacy.Adam for m1\n",
    "loss = tf.keras.losses.SparseCategoricalCrossentropy(from_logits=True)\n",
    "model.compile(optimizer=optimizer, loss=loss, metrics=[\"accuracy\"])\n",
    "\n",
    "EPOCHS = 3\n",
    "\n",
    "device = \"/GPU:0\" if tf.config.list_physical_devices(\"GPU\") else \"/CPU:0\"\n",
    "with tf.device(device):\n",
    "    history = model.fit(tf_data, epochs=EPOCHS, validation_data=val_data)\n",
    "    \n",
    "# model.compile(optimizer=tf.keras.optimizers.legacy.Adam(learning_rate=3e-5, epsilon=1e-08, clipnorm=1.0), \n",
    "#               loss=tf.keras.losses.SparseCategoricalCrossentropy(from_logits=True), \n",
    "#               metrics=[tf.keras.metrics.SparseCategoricalAccuracy('accuracy')])"
   ]
  },
  {
   "cell_type": "markdown",
   "id": "171977d7",
   "metadata": {},
   "source": [
    "## Inference"
   ]
  },
  {
   "cell_type": "code",
   "execution_count": 19,
   "id": "826b6a76",
   "metadata": {},
   "outputs": [],
   "source": [
    "pred_sentences = ['''German economy entered recession as inflation hurts consumers Reuters May 25, 20236:13 PM GMT+8Updated 6 min ago Outbreak of the coronavirus disease (COVID-19) pandemic in Berlin People pass by the Europa-Center shopping mall, amid the coronavirus disease (COVID-19) pandemic in Berlin, Germany, December 14, 2020. REUTERS/Michele Tantussi BERLIN, May 24 (Reuters) - The German economy was in recession in early 2023 after households spending in Europe's economic engine finally succumbed to the pressure of high inflation. Gross domestic product fell by 0.3% in the first quarter of the year when adjusted for price and calendar effects, a second estimate from the statistics office showed on Thursday. This follows a decline of 0.5% in the fourth quarter of 2022. A recession is commonly defined as two successive quarters of contraction. Advertisement · Scroll to continue German GDP data showed \"surprisingly negative signals,\" Finance Minister Christian Lindner said on Thursday. He added that comparing Germany with other highly developed economies, the economy was losing potential for growth. \"I don't want Germany to play in a league in which we have to relegate ourselves to the last positions,\" he said, referring to the forecasts of the International Monetary Fund, which forecast a recession in 2023 only in Germany and Britain among European countries. \"Under the weight of immense inflation, the German consumer has fallen to his knees, dragging the entire economy down with him,\" Andreas Scheuerle, an analyst at DekaBank, said. Advertisement · Scroll to continue Household consumption was down 1.2% quarter-on-quarter after price, seasonal and calendar adjustments. Government spending also decreased significantly by 4.9% on the quarter. \"The warm winter weather, a rebound in industrial activity, helped by the Chinese reopening, and an easing of supply chain frictions, were not enough to get the economy out of the recessionary danger zone,\" ING's global head of macro Carsten Brzeski said. By contrast, investment was up in the first three months of the year, following a weak second half of 2022. Investment in machinery and equipment increased by 3.2% compared with the previous quarter, while investment in construction went up 3.9% on quarter. There were also positive contributions from trade. Exports rose 0.4%, while imports fell 0.9%. \"The massive rise in energy prices took its toll in the winter half-year,\" Commerzbank's chief economist Joerg Kraemer said. Advertisement · Scroll to continue A recession could not be avoided and now the question is whether there will be any recovery in the second half of the year. \"Looking beyond the first quarter, the optimism at the start of the year seems to have given way to more of a sense of reality,\" ING's Brzeski said. A drop in purchasing power, thinned-out industrial order books, aggressive monetary policy tightening, and the expected slowdown of the U.S. economy, all argue in favour of weak economic activity. Following Wednesday's decline in the Ifo business climate, all key leading indicators in the manufacturing sector are now falling, Kraemer from Commerzbank said. The German Bundesbank, however, expects the economy to grow modestly in the second quarter as a rebound in industry more than offsets stagnating household consumption and a slump in construction, according to a monthly economy report published on Wednesday.''',\n",
    "                 '''Exclusive: Asia-focused HSBC puts 12 countries on exit watchlist By Lawrence White May 24, 20237:05 PM GMT+8Updated a day ago Georges Elhedery, HSBC's CFO, gestures during an interview with Reuters in Dubai Georges Elhedery, HSBC's CFO, gestures during an interview with Reuters in Dubai, United Arab Emirates August 7, 2017. REUTERS/Tom Arnold/ Summary Companies Reviews presence in smaller markets to chase bigger Asian growth Looking to add 2,000 Chinese wealth managers over next two years LONDON, May 24 (Reuters) - HSBC (HSBA.L) is reviewing a possible exit from as many as 1 in 5 of the countries the lender operates in to sharpen its focus on Asian expansion, Chief Financial Officer Georges Elhedery told Reuters in his first interview since taking the role. These reviews, which could see the British bank deciding to sell or streamline businesses in 12 countries, follow pressure from Chinese shareholder Ping An Insurance (601318.SS), which wants HSBC to prioritise growth in its money-spinning Asian business which generates 78% of group profit. Advertisement · Scroll to continue \"Some of these will have slower progress than others, and none of them is material enough on its own to change the profile of the overall business, but as we progress through and execute on these assessments, we do expect them to contribute towards that shift to Asia,\" Elhedery said, declining to disclose which markets were under review or the time frame for the processes. HSBC's ongoing pivot to Asia has already triggered planned sales of all or parts of its businesses in France, Greece, Russia and Canada, announced in the last two years. While the markets under review may be relatively small, the move is significant in showing the pressure HSBC faces to shrink its once globe-spanning local banking businesses in order to lift returns and appease its investors. Advertisement · Scroll to continue HSBC does not break out the results of every individual country in which it operates in its overall results, making identifying underperforming markets challenging. But its businesses in Europe and Latin America may be particularly under the microscope, with the former region making a net loss in 2022 thanks to restructuring and the costs booked to its headquarters in the region. Latin America contributed just under 5% of group profit. One country not currently under review is Mexico, Elhedery said, despite debate among analysts and investors on the bank's future presence in the country. \"Mexico is performing very well for us,\" the veteran banker said, pointing to the U.S.-Mexico-Canada trade agreement and to the China Plus One strategy, which have supported economic growth in Mexico. \"Some 70% of client acquisition in the retail business is through employees of the multinational companies that HSBC banks in Mexico, so there are strong synergies with the wholesale business and the package as a whole makes sense for us,\" he added. Advertisement · Scroll to continue BIGGER DEALS PRESENT WIDER CHALLENGES Ping An was the only major HSBC investor backing proposals to force the bank to publish regular assessments on the merits of dividing its franchise along Asian and Western lines at HSBC's annual shareholder meeting on May 5. A spokesperson for Ping An said the company had no further comment. The failure of Ping An to secure further backing for a split has afforded HSBC Chairman Mark Tucker, Chief Executive Noel Quinn and newly-promoted Elhedery some breathing space to pursue greater profit growth on their terms. \"It's overwhelmingly clear what the majority of our shareholders bar one expect from us, and therefore all our focus now is on delivering for the business and for our customers,\" Elhedery said. Wider challenges include executing critical asset sales, managing a price war with rivals as interest rate hikes peak, and dealing with rising political tensions between East and West, analysts and investors said. The bank on April 14 said a nominal 1 euro ($1.10) deal to offload its French retail business could falter after interest rate hikes upped the amount of capital Cerberus-backed buyer, My Money, will need to secure regulatory approval. HSBC had said it expected to incur a loss of around $2.3 billion on the disposal should it go ahead. Elhedery said negotiations are ongoing but HSBC would walk away from the deal to protect shareholder value if necessary. HSBC's larger $10 billion sale of its Canada unit has also been delayed until next year, as it battles to ensure a smooth transition of systems to the buyer, Royal Bank of Canada. Failure to complete either of those deals could have wider consequences for HSBC. \"In the short term, the risk that the French and Canadian disposals don't complete ... could put a spanner in the works of its Asia pivot and spark a fresh wave of activism,\" said Susannah Streeter, head of money and markets at Hargreaves Lansdown. Beyond dealmaking, Elhedery said the medium-term challenge is sustaining momentum in revenue growth, with the fillip from rising central bank interest rates worldwide already tapering off. The bank is trying to increase income through fee-based products and services, especially in China and Hong Kong where economies are beginning to normalise following the lifting of COVID-19 related restrictions. HSBC is on track to hire around 2,000 private wealth managers in China's insurance sector over the next two years, adding to the 1,000 hired last year, Elhedery said.''']"
   ]
  },
  {
   "cell_type": "markdown",
   "id": "b3ca8b49",
   "metadata": {},
   "source": [
    "references:\n",
    "https://www.reuters.com/business/finance/asia-focused-hsbc-puts-12-countries-exit-watchlist-2023-05-24/\n",
    "https://www.reuters.com/markets/europe/germany-enters-recession-2023-05-25/"
   ]
  },
  {
   "cell_type": "code",
   "execution_count": 20,
   "id": "65642740",
   "metadata": {
    "scrolled": true
   },
   "outputs": [
    {
     "name": "stdout",
     "output_type": "stream",
     "text": [
      "German economy entered recession as inflation hurts consumers Reuters May 25, 20236:13 PM GMT+8Updated 6 min ago Outbreak of the coronavirus disease (COVID-19) pandemic in Berlin People pass by the Europa-Center shopping mall, amid the coronavirus disease (COVID-19) pandemic in Berlin, Germany, December 14, 2020. REUTERS/Michele Tantussi BERLIN, May 24 (Reuters) - The German economy was in recession in early 2023 after households spending in Europe's economic engine finally succumbed to the pressure of high inflation. Gross domestic product fell by 0.3% in the first quarter of the year when adjusted for price and calendar effects, a second estimate from the statistics office showed on Thursday. This follows a decline of 0.5% in the fourth quarter of 2022. A recession is commonly defined as two successive quarters of contraction. Advertisement · Scroll to continue German GDP data showed \"surprisingly negative signals,\" Finance Minister Christian Lindner said on Thursday. He added that comparing Germany with other highly developed economies, the economy was losing potential for growth. \"I don't want Germany to play in a league in which we have to relegate ourselves to the last positions,\" he said, referring to the forecasts of the International Monetary Fund, which forecast a recession in 2023 only in Germany and Britain among European countries. \"Under the weight of immense inflation, the German consumer has fallen to his knees, dragging the entire economy down with him,\" Andreas Scheuerle, an analyst at DekaBank, said. Advertisement · Scroll to continue Household consumption was down 1.2% quarter-on-quarter after price, seasonal and calendar adjustments. Government spending also decreased significantly by 4.9% on the quarter. \"The warm winter weather, a rebound in industrial activity, helped by the Chinese reopening, and an easing of supply chain frictions, were not enough to get the economy out of the recessionary danger zone,\" ING's global head of macro Carsten Brzeski said. By contrast, investment was up in the first three months of the year, following a weak second half of 2022. Investment in machinery and equipment increased by 3.2% compared with the previous quarter, while investment in construction went up 3.9% on quarter. There were also positive contributions from trade. Exports rose 0.4%, while imports fell 0.9%. \"The massive rise in energy prices took its toll in the winter half-year,\" Commerzbank's chief economist Joerg Kraemer said. Advertisement · Scroll to continue A recession could not be avoided and now the question is whether there will be any recovery in the second half of the year. \"Looking beyond the first quarter, the optimism at the start of the year seems to have given way to more of a sense of reality,\" ING's Brzeski said. A drop in purchasing power, thinned-out industrial order books, aggressive monetary policy tightening, and the expected slowdown of the U.S. economy, all argue in favour of weak economic activity. Following Wednesday's decline in the Ifo business climate, all key leading indicators in the manufacturing sector are now falling, Kraemer from Commerzbank said. The German Bundesbank, however, expects the economy to grow modestly in the second quarter as a rebound in industry more than offsets stagnating household consumption and a slump in construction, according to a monthly economy report published on Wednesday. : \n",
      "\n",
      " Negative \n",
      "\n",
      "\n",
      "Exclusive: Asia-focused HSBC puts 12 countries on exit watchlist By Lawrence White May 24, 20237:05 PM GMT+8Updated a day ago Georges Elhedery, HSBC's CFO, gestures during an interview with Reuters in Dubai Georges Elhedery, HSBC's CFO, gestures during an interview with Reuters in Dubai, United Arab Emirates August 7, 2017. REUTERS/Tom Arnold/ Summary Companies Reviews presence in smaller markets to chase bigger Asian growth Looking to add 2,000 Chinese wealth managers over next two years LONDON, May 24 (Reuters) - HSBC (HSBA.L) is reviewing a possible exit from as many as 1 in 5 of the countries the lender operates in to sharpen its focus on Asian expansion, Chief Financial Officer Georges Elhedery told Reuters in his first interview since taking the role. These reviews, which could see the British bank deciding to sell or streamline businesses in 12 countries, follow pressure from Chinese shareholder Ping An Insurance (601318.SS), which wants HSBC to prioritise growth in its money-spinning Asian business which generates 78% of group profit. Advertisement · Scroll to continue \"Some of these will have slower progress than others, and none of them is material enough on its own to change the profile of the overall business, but as we progress through and execute on these assessments, we do expect them to contribute towards that shift to Asia,\" Elhedery said, declining to disclose which markets were under review or the time frame for the processes. HSBC's ongoing pivot to Asia has already triggered planned sales of all or parts of its businesses in France, Greece, Russia and Canada, announced in the last two years. While the markets under review may be relatively small, the move is significant in showing the pressure HSBC faces to shrink its once globe-spanning local banking businesses in order to lift returns and appease its investors. Advertisement · Scroll to continue HSBC does not break out the results of every individual country in which it operates in its overall results, making identifying underperforming markets challenging. But its businesses in Europe and Latin America may be particularly under the microscope, with the former region making a net loss in 2022 thanks to restructuring and the costs booked to its headquarters in the region. Latin America contributed just under 5% of group profit. One country not currently under review is Mexico, Elhedery said, despite debate among analysts and investors on the bank's future presence in the country. \"Mexico is performing very well for us,\" the veteran banker said, pointing to the U.S.-Mexico-Canada trade agreement and to the China Plus One strategy, which have supported economic growth in Mexico. \"Some 70% of client acquisition in the retail business is through employees of the multinational companies that HSBC banks in Mexico, so there are strong synergies with the wholesale business and the package as a whole makes sense for us,\" he added. Advertisement · Scroll to continue BIGGER DEALS PRESENT WIDER CHALLENGES Ping An was the only major HSBC investor backing proposals to force the bank to publish regular assessments on the merits of dividing its franchise along Asian and Western lines at HSBC's annual shareholder meeting on May 5. A spokesperson for Ping An said the company had no further comment. The failure of Ping An to secure further backing for a split has afforded HSBC Chairman Mark Tucker, Chief Executive Noel Quinn and newly-promoted Elhedery some breathing space to pursue greater profit growth on their terms. \"It's overwhelmingly clear what the majority of our shareholders bar one expect from us, and therefore all our focus now is on delivering for the business and for our customers,\" Elhedery said. Wider challenges include executing critical asset sales, managing a price war with rivals as interest rate hikes peak, and dealing with rising political tensions between East and West, analysts and investors said. The bank on April 14 said a nominal 1 euro ($1.10) deal to offload its French retail business could falter after interest rate hikes upped the amount of capital Cerberus-backed buyer, My Money, will need to secure regulatory approval. HSBC had said it expected to incur a loss of around $2.3 billion on the disposal should it go ahead. Elhedery said negotiations are ongoing but HSBC would walk away from the deal to protect shareholder value if necessary. HSBC's larger $10 billion sale of its Canada unit has also been delayed until next year, as it battles to ensure a smooth transition of systems to the buyer, Royal Bank of Canada. Failure to complete either of those deals could have wider consequences for HSBC. \"In the short term, the risk that the French and Canadian disposals don't complete ... could put a spanner in the works of its Asia pivot and spark a fresh wave of activism,\" said Susannah Streeter, head of money and markets at Hargreaves Lansdown. Beyond dealmaking, Elhedery said the medium-term challenge is sustaining momentum in revenue growth, with the fillip from rising central bank interest rates worldwide already tapering off. The bank is trying to increase income through fee-based products and services, especially in China and Hong Kong where economies are beginning to normalise following the lifting of COVID-19 related restrictions. HSBC is on track to hire around 2,000 private wealth managers in China's insurance sector over the next two years, adding to the 1,000 hired last year, Elhedery said. : \n",
      "\n",
      " Positive \n",
      "\n",
      "\n"
     ]
    }
   ],
   "source": [
    "#Predictons\n",
    "tf_batch = tokenizer(pred_sentences, max_length=512, padding=True, truncation=True, return_tensors='tf')\n",
    "tf_outputs = model(tf_batch)\n",
    "#tf_predictions = tf.nn.softmax(tf_outputs[0], axis=-1)\n",
    "tf_predictions = tf.nn.softmax(tf_outputs['logits'], axis=-1)\n",
    "labels = ['Negative','Positive']\n",
    "label = tf.argmax(tf_predictions, axis=1)\n",
    "label = label.numpy()\n",
    "for i in range(len(pred_sentences)):\n",
    "  print(pred_sentences[i], \": \\n\\n\", labels[label[i]], \"\\n\\n\")\n"
   ]
  },
  {
   "cell_type": "code",
   "execution_count": 19,
   "id": "fb42d7ce",
   "metadata": {
    "scrolled": true
   },
   "outputs": [
    {
     "ename": "NotImplementedError",
     "evalue": "Saving the model to HDF5 format requires the model to be a Functional model or a Sequential model. It does not work for subclassed models, because such models are defined via the body of a Python method, which isn't safely serializable. Consider saving to the Tensorflow SavedModel format (by setting save_format=\"tf\") or using `save_weights`.",
     "output_type": "error",
     "traceback": [
      "\u001b[0;31m---------------------------------------------------------------------------\u001b[0m",
      "\u001b[0;31mNotImplementedError\u001b[0m                       Traceback (most recent call last)",
      "Cell \u001b[0;32mIn[19], line 2\u001b[0m\n\u001b[1;32m      1\u001b[0m \u001b[38;5;66;03m# Save model\u001b[39;00m\n\u001b[0;32m----> 2\u001b[0m \u001b[43mmodel\u001b[49m\u001b[38;5;241;43m.\u001b[39;49m\u001b[43msave\u001b[49m\u001b[43m(\u001b[49m\u001b[38;5;124;43m'\u001b[39;49m\u001b[38;5;124;43m./model.h5\u001b[39;49m\u001b[38;5;124;43m'\u001b[39;49m\u001b[43m)\u001b[49m\n",
      "File \u001b[0;32m/opt/homebrew/Caskroom/miniforge/base/envs/stock/lib/python3.10/site-packages/keras/utils/traceback_utils.py:70\u001b[0m, in \u001b[0;36mfilter_traceback.<locals>.error_handler\u001b[0;34m(*args, **kwargs)\u001b[0m\n\u001b[1;32m     67\u001b[0m     filtered_tb \u001b[38;5;241m=\u001b[39m _process_traceback_frames(e\u001b[38;5;241m.\u001b[39m__traceback__)\n\u001b[1;32m     68\u001b[0m     \u001b[38;5;66;03m# To get the full stack trace, call:\u001b[39;00m\n\u001b[1;32m     69\u001b[0m     \u001b[38;5;66;03m# `tf.debugging.disable_traceback_filtering()`\u001b[39;00m\n\u001b[0;32m---> 70\u001b[0m     \u001b[38;5;28;01mraise\u001b[39;00m e\u001b[38;5;241m.\u001b[39mwith_traceback(filtered_tb) \u001b[38;5;28;01mfrom\u001b[39;00m \u001b[38;5;28;01mNone\u001b[39;00m\n\u001b[1;32m     71\u001b[0m \u001b[38;5;28;01mfinally\u001b[39;00m:\n\u001b[1;32m     72\u001b[0m     \u001b[38;5;28;01mdel\u001b[39;00m filtered_tb\n",
      "File \u001b[0;32m/opt/homebrew/Caskroom/miniforge/base/envs/stock/lib/python3.10/site-packages/keras/saving/legacy/save.py:152\u001b[0m, in \u001b[0;36msave_model\u001b[0;34m(model, filepath, overwrite, include_optimizer, save_format, signatures, options, save_traces)\u001b[0m\n\u001b[1;32m    143\u001b[0m \u001b[38;5;28;01mif\u001b[39;00m (\n\u001b[1;32m    144\u001b[0m     save_format \u001b[38;5;241m==\u001b[39m \u001b[38;5;124m\"\u001b[39m\u001b[38;5;124mh5\u001b[39m\u001b[38;5;124m\"\u001b[39m\n\u001b[1;32m    145\u001b[0m     \u001b[38;5;129;01mor\u001b[39;00m (h5py \u001b[38;5;129;01mis\u001b[39;00m \u001b[38;5;129;01mnot\u001b[39;00m \u001b[38;5;28;01mNone\u001b[39;00m \u001b[38;5;129;01mand\u001b[39;00m \u001b[38;5;28misinstance\u001b[39m(filepath, h5py\u001b[38;5;241m.\u001b[39mFile))\n\u001b[1;32m    146\u001b[0m     \u001b[38;5;129;01mor\u001b[39;00m saving_utils\u001b[38;5;241m.\u001b[39mis_hdf5_filepath(filepath)\n\u001b[1;32m    147\u001b[0m ):\n\u001b[1;32m    148\u001b[0m     \u001b[38;5;66;03m# TODO(b/130258301): add utility method for detecting model type.\u001b[39;00m\n\u001b[1;32m    149\u001b[0m     \u001b[38;5;28;01mif\u001b[39;00m \u001b[38;5;129;01mnot\u001b[39;00m model\u001b[38;5;241m.\u001b[39m_is_graph_network \u001b[38;5;129;01mand\u001b[39;00m \u001b[38;5;129;01mnot\u001b[39;00m \u001b[38;5;28misinstance\u001b[39m(\n\u001b[1;32m    150\u001b[0m         model, sequential\u001b[38;5;241m.\u001b[39mSequential\n\u001b[1;32m    151\u001b[0m     ):\n\u001b[0;32m--> 152\u001b[0m         \u001b[38;5;28;01mraise\u001b[39;00m \u001b[38;5;167;01mNotImplementedError\u001b[39;00m(\n\u001b[1;32m    153\u001b[0m             \u001b[38;5;124m\"\u001b[39m\u001b[38;5;124mSaving the model to HDF5 format requires the model to be a \u001b[39m\u001b[38;5;124m\"\u001b[39m\n\u001b[1;32m    154\u001b[0m             \u001b[38;5;124m\"\u001b[39m\u001b[38;5;124mFunctional model or a Sequential model. It does not work for \u001b[39m\u001b[38;5;124m\"\u001b[39m\n\u001b[1;32m    155\u001b[0m             \u001b[38;5;124m\"\u001b[39m\u001b[38;5;124msubclassed models, because such models are defined via the \u001b[39m\u001b[38;5;124m\"\u001b[39m\n\u001b[1;32m    156\u001b[0m             \u001b[38;5;124m\"\u001b[39m\u001b[38;5;124mbody of a Python method, which isn\u001b[39m\u001b[38;5;124m'\u001b[39m\u001b[38;5;124mt safely serializable. \u001b[39m\u001b[38;5;124m\"\u001b[39m\n\u001b[1;32m    157\u001b[0m             \u001b[38;5;124m\"\u001b[39m\u001b[38;5;124mConsider saving to the Tensorflow SavedModel format (by \u001b[39m\u001b[38;5;124m\"\u001b[39m\n\u001b[1;32m    158\u001b[0m             \u001b[38;5;124m'\u001b[39m\u001b[38;5;124msetting save_format=\u001b[39m\u001b[38;5;124m\"\u001b[39m\u001b[38;5;124mtf\u001b[39m\u001b[38;5;124m\"\u001b[39m\u001b[38;5;124m) or using `save_weights`.\u001b[39m\u001b[38;5;124m'\u001b[39m\n\u001b[1;32m    159\u001b[0m         )\n\u001b[1;32m    160\u001b[0m     hdf5_format\u001b[38;5;241m.\u001b[39msave_model_to_hdf5(\n\u001b[1;32m    161\u001b[0m         model, filepath, overwrite, include_optimizer\n\u001b[1;32m    162\u001b[0m     )\n\u001b[1;32m    163\u001b[0m \u001b[38;5;28;01melse\u001b[39;00m:\n",
      "\u001b[0;31mNotImplementedError\u001b[0m: Saving the model to HDF5 format requires the model to be a Functional model or a Sequential model. It does not work for subclassed models, because such models are defined via the body of a Python method, which isn't safely serializable. Consider saving to the Tensorflow SavedModel format (by setting save_format=\"tf\") or using `save_weights`."
     ]
    }
   ],
   "source": [
    "# Save model\n",
    "model.save('./')"
   ]
  },
  {
   "cell_type": "code",
   "execution_count": null,
   "id": "051ba169",
   "metadata": {},
   "outputs": [],
   "source": []
  }
 ],
 "metadata": {
  "kernelspec": {
   "display_name": "Python 3 (ipykernel)",
   "language": "python",
   "name": "python3"
  },
  "language_info": {
   "codemirror_mode": {
    "name": "ipython",
    "version": 3
   },
   "file_extension": ".py",
   "mimetype": "text/x-python",
   "name": "python",
   "nbconvert_exporter": "python",
   "pygments_lexer": "ipython3",
   "version": "3.10.11"
  }
 },
 "nbformat": 4,
 "nbformat_minor": 5
}
